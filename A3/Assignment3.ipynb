{
 "cells": [
  {
   "cell_type": "markdown",
   "metadata": {},
   "source": [
    "# Title: Assignment 2: Analyzing Facebook Large Page-Page Network\n",
    "# Author: \"put your student id here\""
   ]
  },
  {
   "cell_type": "markdown",
   "metadata": {},
   "source": [
    "## Introduction:\n",
    "In assignment 2, you will get familier with NetworkX (https://networkx.github.io/) for network analysis (creating network, reporting network statistics, calculating three node centrality measures, and implement two link prediction methods). NetworkX has nice documentation including all graph algorithms it supports: https://networkx.github.io/documentation/stable/reference/index.html\n",
    "\n",
    "You can always add more code/markdown cells.\n",
    "\n",
    "## Dataset\n",
    "The dataset we are using in this assignment is from Facebook. A detailed description of the dataset could be found at: https://snap.stanford.edu/data/facebook-large-page-page-network.html.\n",
    "\n",
    "The whole network is a page-page graph of verified Facebook sites. Nodes represent official Facebook pages while the links are mutual likes between sites. Node features are extracted from the site descriptions that the page owners created to summarize the purpose of the site. This graph was collected through the Facebook Graph API in November 2017 and restricted to pages from 4 categories which are defined by Facebook. These categories are: politicians, governmental organizations, television shows and companies. \n",
    "\n",
    "## Important Note:\n",
    "Don't forget to provide a summary of your findings/results for Task 2-4.\n",
    "Submit your code (executed ipynb file) to onq."
   ]
  },
  {
   "cell_type": "code",
   "execution_count": 1,
   "metadata": {},
   "outputs": [],
   "source": [
    "# import needed Python libraries, e.g., networkx \n",
    "import numpy as np\n",
    "import csv\n",
    "from operator import itemgetter\n",
    "import networkx as nx\n",
    "from networkx.algorithms import community \n"
   ]
  },
  {
   "cell_type": "markdown",
   "metadata": {},
   "source": [
    "## Task 1: load dataset and create network (10 points).\n",
    "Download data from https://snap.stanford.edu/data/facebook-large-page-page-network.html.\n",
    "In this step, you need to load edge and node information from raw dataset. Usually, the edges and nodes are saved in csv files.\n",
    "To load and create network in networkx, please read the following tutorial:https://programminghistorian.org/en/lessons/exploring-and-analyzing-network-data-with-python"
   ]
  },
  {
   "cell_type": "code",
   "execution_count": null,
   "metadata": {},
   "outputs": [],
   "source": []
  },
  {
   "cell_type": "markdown",
   "metadata": {},
   "source": [
    "## Task 2: network analysis, reporting basic statistics (10 points). \n",
    "\n",
    "Basic network statistics include:\n",
    "1) number of nodes in the network\n",
    "2) number of edges in the network\n",
    "3) average degree of node\n",
    "4) radius of the network\n",
    "5) diameter of the network \n",
    "6) density of the network\n",
    "\n",
    "ref: https://networkx.github.io/documentation/stable/auto_examples/basic/plot_properties.html#sphx-glr-auto-examples-basic-plot-properties-py\n",
    "\n",
    "Please also draw a figure representing the node degree distribution in the network.\n",
    "You can get degree distribution (count how frequent each degree value appear in the network) by:\n",
    "\n",
    "``` \n",
    "degree_sequence = sorted([d for n, d in G.degree()], reverse=True)  # degree sequence\n",
    "degreeCount = collections.Counter(degree_sequence)\n",
    "deg, cnt = zip(*degreeCount.items())\n",
    " ```\n",
    " \n",
    "Plot the historgram distribution of degree, and then decide whether you need to create a log-log plot (using library matplotlib.pyplot) representing the degree distribution.\n",
    "ref. https://networkx.github.io/documentation/stable/auto_examples/drawing/plot_degree_histogram.html\n",
    "\n",
    " \n"
   ]
  },
  {
   "cell_type": "code",
   "execution_count": null,
   "metadata": {},
   "outputs": [],
   "source": []
  },
  {
   "cell_type": "markdown",
   "metadata": {},
   "source": [
    "Findings for Task 2: Please summarize your findings from the above analysis, e.g., describe the characteristics of the network based on the network statistics.\n",
    "\n"
   ]
  },
  {
   "cell_type": "markdown",
   "metadata": {},
   "source": [
    "## Task 3:  Node centrality analysis (30 points)\n"
   ]
  },
  {
   "cell_type": "markdown",
   "metadata": {},
   "source": [
    "Pick three centrality metrics that you are interested to invesitgate and report at least three findings (e.g., what are the nodes with high centrality values, how the centrality values distributed in the network)\n",
    "Ref: https://networkx.github.io/documentation/stable/reference/algorithms/centrality.html"
   ]
  },
  {
   "cell_type": "code",
   "execution_count": null,
   "metadata": {},
   "outputs": [],
   "source": []
  },
  {
   "cell_type": "markdown",
   "metadata": {},
   "source": [
    "Findings for Task 3: Please summarize your findings from the above analysis\n"
   ]
  },
  {
   "cell_type": "markdown",
   "metadata": {},
   "source": [
    "## Task 4:  link prediction (40 points).\n",
    "Pick one unsupervised and one supervised link prediction algorithm, implement the algorithms and compare the performance of two approaches. \n",
    "You must consider at least one ranking based evaluation metric and one classification based evalution metric.\n",
    "\n",
    "Ref.https://github.com/lucashu1/link-prediction/blob/master/link-prediction-baselines.ipynb\n",
    "https://github.com/lucashu1/link-prediction/blob/master/node2vec.ipynb\n"
   ]
  },
  {
   "cell_type": "code",
   "execution_count": null,
   "metadata": {},
   "outputs": [],
   "source": []
  },
  {
   "cell_type": "markdown",
   "metadata": {},
   "source": [
    "Findings for Task 4: Please summarize the performance of two approaches.\n",
    "\n"
   ]
  },
  {
   "cell_type": "markdown",
   "metadata": {},
   "source": [
    "## Task 5:  take-away message (10 points)\n",
    "Please summary your findings from the above analysis (at least 2 findings):"
   ]
  }
 ],
 "metadata": {
  "kernelspec": {
   "display_name": "Python 3",
   "language": "python",
   "name": "python3"
  },
  "language_info": {
   "codemirror_mode": {
    "name": "ipython",
    "version": 3
   },
   "file_extension": ".py",
   "mimetype": "text/x-python",
   "name": "python",
   "nbconvert_exporter": "python",
   "pygments_lexer": "ipython3",
   "version": "3.7.3-final"
  }
 },
 "nbformat": 4,
 "nbformat_minor": 4
}