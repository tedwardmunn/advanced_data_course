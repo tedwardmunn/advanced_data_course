{
 "cells": [
  {
   "cell_type": "markdown",
   "metadata": {},
   "source": [
    "## Title: Assignment 2: Credit Card Fraud Detection\n",
    "\n",
    "# Author: \" 20001247 \""
   ]
  },
  {
   "cell_type": "markdown",
   "metadata": {},
   "source": [
    "## Introduction:\n",
    "In assignment 2, you will get familier with Jupyter Notebook and Python for predictive data analytics task. Jupyter notebook is very similar to Rmarkdown,it is Python veriosn of Rmarkdown\n",
    "\n",
    "To start with, you should install Jupyter Notenook on your laptop/PC. The easist way for beginners is to install Jupyter Notebook via Anaconda https://www.anaconda.com/distribution/. You can also install Jupyter Notebook from Python. A nice tutorial on Jupyter Notebook installation and usage: https://www.dataquest.io/blog/jupyter-notebook-tutorial/. Introduction to the history of Jupyter Notebook: https://www.youtube.com/watch?v=ctOM-Gza04Y\n",
    "\n",
    "Your goal in this assignment is to compare multiple machine learning classifiers, namely Logistic Regression (covered in topic 1), Random Forest (typical bagging method), XGBoost on a popular predictive data analystics task, i.e., Credit Card Fraud Detection. You will also be asked to perform hyperparameter tuning for three classifiers using random search and grid search. \n",
    "\n",
    "You can always add more code/markdown cells.\n",
    "\n",
    "## Dataset\n",
    "The dataset we are using is from Kaggle: https://www.kaggle.com/mlg-ulb/creditcardfraud#creditcard.csv. The datasets contains transactions made by credit cards in September 2013 by european cardholders. This dataset presents transactions that occurred in two days, where we have 492 frauds out of 284,807 transactions. The dataset is highly unbalanced, the positive class (frauds) account for 0.172% of all transactions.\n",
    "\n",
    "It contains only numerical input variables which are the result of a PCA transformation. Unfortunately, due to confidentiality issues, we cannot provide the original features and more background information about the data. Features V1, V2, ... V28 are the principal components obtained with PCA, the only features which have not been transformed with PCA are 'Time' and 'Amount'. Feature 'Time' contains the seconds elapsed between each transaction and the first transaction in the dataset. The feature 'Amount' is the transaction Amount, this feature can be used for example-dependant cost-senstive learning. Feature 'Class' is the response variable and it takes value 1 in case of fraud and 0 otherwise."
   ]
  },
  {
   "cell_type": "code",
   "execution_count": 3,
   "metadata": {},
   "outputs": [
    {
     "name": "stdout",
     "output_type": "stream",
     "text": "completed importing libraries\n"
    }
   ],
   "source": [
    "# import needed Python libraries, e.g., sklearn and xgboost \n",
    "from sklearn.model_selection import train_test_split, cross_val_score # for cross validation\n",
    "from sklearn import datasets  # import build-in dataset\n",
    "from sklearn import svm, linear_model\n",
    "from sklearn.linear_model import LogisticRegression  # import model\n",
    "from sklearn.ensemble import RandomForestClassifier\n",
    "import pandas as pd\n",
    "import imblearn as imb\n",
    "import sys\n",
    "# !{sys.executable} -m pip install jupyterthemes\n",
    "# !{sys.executable} -m pip install xgboost\n",
    "import jupyterthemes as jt\n",
    "import xgboost as xgb\n",
    "from imblearn.over_sampling import SMOTE\n",
    "from sklearn.model_selection import StratifiedKFold\n",
    "from sklearn.metrics import confusion_matrix\n",
    "print(\"completed importing libraries\")\n"
   ]
  },
  {
   "cell_type": "markdown",
   "metadata": {},
   "source": [
    "## Task 1: load dataset and set up pipeline (10 points).\n",
    "In reality, we usually use 10-fold cross validation rather than reporting evalution performance on one single split of data. Cross-validation: Ref. https://towardsdatascience.com/5-reasons-why-you-should-use-cross-validation-in-your-data-science-project-8163311a1e79 \n",
    "\n",
    "Using pandas to load and explore data, e.g., dataset = pd.read_csv(r\"D:/Datasets/creditfraud.csv\", sep=';'). \n",
    "Ref: https://www.datacamp.com/community/tutorials/pandas-read-csv\n",
    "\n",
    "pandas is similar to dataframe in R. You can also use dataset.head(3) to check the initial 3 rows of your dataset.\n",
    "\n",
    "Using scikit-learn package, you can easily build data analytics pipeline.\n",
    "e.g., \n",
    "``` \n",
    "from sklearn.model_selection import cross_val_score # for cross validation\n",
    "from sklearn import datasets  # import build-in dataset\n",
    "from sklearn import svm  # import model\n",
    "\n",
    "iris = datasets.load_iris()  # load dataset\n",
    "clf_svc_cv = svm.SVC(kernel='linear',C=1)  # build a support vector machine with parameters\n",
    "scores_clf_svc_cv = cross_val_score(clf_svc_cv,iris.data,iris.target,cv=10)  # 10-fold cross validation\n",
    "print(scores_clf_svc_cv) # print results\n",
    "print(\"Accuracy: %0.2f (+/- %0.2f)\" % (scores_clf_svc_cv.mean(), scores_clf_svc_cv.std() * 2))  # print accuracy\n",
    " ```\n",
    "\n",
    "https://scikit-learn.org/stable/tutorial/statistical_inference/model_selection.html\n",
    "\n",
    "You can also use sklearn.model_selection.StratifiedKFold, so that you could iterate 10 folds and perform data preprocessing.\n",
    "e.g., \n",
    "\n",
    "``` \n",
    "from sklearn.model_selection import StratifiedKFold\n",
    "from imblearn.over_sampling import SMOTE\n",
    "cv = StratifiedKFold(n_splits=10)\n",
    "\n",
    "for train_idx, test_idx, in cv.split(X, y):\n",
    "   sm = SMOTE()\n",
    "   X_train_oversampled, y_train_oversampled = sm.fit_sample(X_train, y_train)\n",
    "   model = ...  # Choose a model here\n",
    "   model.fit(X_train_oversampled, y_train_oversampled ) \n",
    "   y_pred = model.predict(X_test)\n",
    "   print(f'For fold {fold}:')\n",
    "   print(f'Accuracy: {model.score(X_test, y_test)}')\n",
    "   print(f'f-score: {f1_score(y_test, y_pred)}') \n",
    " ```\n"
   ]
  },
  {
   "cell_type": "code",
   "execution_count": 4,
   "metadata": {},
   "outputs": [
    {
     "data": {
      "text/html": "<div>\n<style scoped>\n    .dataframe tbody tr th:only-of-type {\n        vertical-align: middle;\n    }\n\n    .dataframe tbody tr th {\n        vertical-align: top;\n    }\n\n    .dataframe thead th {\n        text-align: right;\n    }\n</style>\n<table border=\"1\" class=\"dataframe\">\n  <thead>\n    <tr style=\"text-align: right;\">\n      <th></th>\n      <th>Time</th>\n      <th>V1</th>\n      <th>V2</th>\n      <th>V3</th>\n      <th>V4</th>\n      <th>V5</th>\n      <th>V6</th>\n      <th>V7</th>\n      <th>V8</th>\n      <th>V9</th>\n      <th>...</th>\n      <th>V21</th>\n      <th>V22</th>\n      <th>V23</th>\n      <th>V24</th>\n      <th>V25</th>\n      <th>V26</th>\n      <th>V27</th>\n      <th>V28</th>\n      <th>Amount</th>\n      <th>Class</th>\n    </tr>\n  </thead>\n  <tbody>\n    <tr>\n      <th>0</th>\n      <td>0.0</td>\n      <td>-1.359807</td>\n      <td>-0.072781</td>\n      <td>2.536347</td>\n      <td>1.378155</td>\n      <td>-0.338321</td>\n      <td>0.462388</td>\n      <td>0.239599</td>\n      <td>0.098698</td>\n      <td>0.363787</td>\n      <td>...</td>\n      <td>-0.018307</td>\n      <td>0.277838</td>\n      <td>-0.110474</td>\n      <td>0.066928</td>\n      <td>0.128539</td>\n      <td>-0.189115</td>\n      <td>0.133558</td>\n      <td>-0.021053</td>\n      <td>149.62</td>\n      <td>0</td>\n    </tr>\n    <tr>\n      <th>1</th>\n      <td>0.0</td>\n      <td>1.191857</td>\n      <td>0.266151</td>\n      <td>0.166480</td>\n      <td>0.448154</td>\n      <td>0.060018</td>\n      <td>-0.082361</td>\n      <td>-0.078803</td>\n      <td>0.085102</td>\n      <td>-0.255425</td>\n      <td>...</td>\n      <td>-0.225775</td>\n      <td>-0.638672</td>\n      <td>0.101288</td>\n      <td>-0.339846</td>\n      <td>0.167170</td>\n      <td>0.125895</td>\n      <td>-0.008983</td>\n      <td>0.014724</td>\n      <td>2.69</td>\n      <td>0</td>\n    </tr>\n    <tr>\n      <th>2</th>\n      <td>1.0</td>\n      <td>-1.358354</td>\n      <td>-1.340163</td>\n      <td>1.773209</td>\n      <td>0.379780</td>\n      <td>-0.503198</td>\n      <td>1.800499</td>\n      <td>0.791461</td>\n      <td>0.247676</td>\n      <td>-1.514654</td>\n      <td>...</td>\n      <td>0.247998</td>\n      <td>0.771679</td>\n      <td>0.909412</td>\n      <td>-0.689281</td>\n      <td>-0.327642</td>\n      <td>-0.139097</td>\n      <td>-0.055353</td>\n      <td>-0.059752</td>\n      <td>378.66</td>\n      <td>0</td>\n    </tr>\n    <tr>\n      <th>3</th>\n      <td>1.0</td>\n      <td>-0.966272</td>\n      <td>-0.185226</td>\n      <td>1.792993</td>\n      <td>-0.863291</td>\n      <td>-0.010309</td>\n      <td>1.247203</td>\n      <td>0.237609</td>\n      <td>0.377436</td>\n      <td>-1.387024</td>\n      <td>...</td>\n      <td>-0.108300</td>\n      <td>0.005274</td>\n      <td>-0.190321</td>\n      <td>-1.175575</td>\n      <td>0.647376</td>\n      <td>-0.221929</td>\n      <td>0.062723</td>\n      <td>0.061458</td>\n      <td>123.50</td>\n      <td>0</td>\n    </tr>\n    <tr>\n      <th>4</th>\n      <td>2.0</td>\n      <td>-1.158233</td>\n      <td>0.877737</td>\n      <td>1.548718</td>\n      <td>0.403034</td>\n      <td>-0.407193</td>\n      <td>0.095921</td>\n      <td>0.592941</td>\n      <td>-0.270533</td>\n      <td>0.817739</td>\n      <td>...</td>\n      <td>-0.009431</td>\n      <td>0.798278</td>\n      <td>-0.137458</td>\n      <td>0.141267</td>\n      <td>-0.206010</td>\n      <td>0.502292</td>\n      <td>0.219422</td>\n      <td>0.215153</td>\n      <td>69.99</td>\n      <td>0</td>\n    </tr>\n  </tbody>\n</table>\n<p>5 rows × 31 columns</p>\n</div>",
      "text/plain": "   Time        V1        V2        V3        V4        V5        V6        V7  \\\n0   0.0 -1.359807 -0.072781  2.536347  1.378155 -0.338321  0.462388  0.239599   \n1   0.0  1.191857  0.266151  0.166480  0.448154  0.060018 -0.082361 -0.078803   \n2   1.0 -1.358354 -1.340163  1.773209  0.379780 -0.503198  1.800499  0.791461   \n3   1.0 -0.966272 -0.185226  1.792993 -0.863291 -0.010309  1.247203  0.237609   \n4   2.0 -1.158233  0.877737  1.548718  0.403034 -0.407193  0.095921  0.592941   \n\n         V8        V9  ...       V21       V22       V23       V24       V25  \\\n0  0.098698  0.363787  ... -0.018307  0.277838 -0.110474  0.066928  0.128539   \n1  0.085102 -0.255425  ... -0.225775 -0.638672  0.101288 -0.339846  0.167170   \n2  0.247676 -1.514654  ...  0.247998  0.771679  0.909412 -0.689281 -0.327642   \n3  0.377436 -1.387024  ... -0.108300  0.005274 -0.190321 -1.175575  0.647376   \n4 -0.270533  0.817739  ... -0.009431  0.798278 -0.137458  0.141267 -0.206010   \n\n        V26       V27       V28  Amount  Class  \n0 -0.189115  0.133558 -0.021053  149.62      0  \n1  0.125895 -0.008983  0.014724    2.69      0  \n2 -0.139097 -0.055353 -0.059752  378.66      0  \n3 -0.221929  0.062723  0.061458  123.50      0  \n4  0.502292  0.219422  0.215153   69.99      0  \n\n[5 rows x 31 columns]"
     },
     "execution_count": 4,
     "metadata": {},
     "output_type": "execute_result"
    }
   ],
   "source": [
    "#loading the data set and checking the first 5 entries\n",
    "maind = pd.read_csv(\"creditcard.csv\")\n",
    "train, test = train_test_split(maind, test_size=0.2)\n",
    "\n",
    "#separating x and y for testing and training\n",
    "train_x = train.iloc[:,0:31]\n",
    "train_y = train['Class'] #note that class is case sensitive\n",
    "test_x = test.iloc[:,0:31]\n",
    "test_y = test['Class']\n",
    "maind.head(5)\n",
    "\n"
   ]
  },
  {
   "cell_type": "code",
   "execution_count": 5,
   "metadata": {},
   "outputs": [
    {
     "name": "stdout",
     "output_type": "stream",
     "text": "[1.         0.93333333 1.         1.         0.86666667 1.\n 0.93333333 1.         1.         1.        ]\nAccuracy: 0.97 (+/- 0.09)\n"
    }
   ],
   "source": [
    "#working with sample code provided to create accuracy measures\n",
    "iris = datasets.load_iris()  # load dataset\n",
    "clf_svc_cv = svm.SVC(kernel='linear',C=1)  # build a support vector machine with parameters\n",
    "scores_clf_svc_cv = cross_val_score(clf_svc_cv,iris.data,iris.target,cv=10)  # 10-fold cross validation\n",
    "print(scores_clf_svc_cv) # print results\n",
    "print(\"Accuracy: %0.2f (+/- %0.2f)\" % (scores_clf_svc_cv.mean(), scores_clf_svc_cv.std() * 2))  # print accuracy"
   ]
  },
  {
   "cell_type": "code",
   "execution_count": 31,
   "metadata": {},
   "outputs": [
    {
     "ename": "NameError",
     "evalue": "name 'fold' is not defined",
     "output_type": "error",
     "traceback": [
      "\u001b[0;31m---------------------------------------------------------------------------\u001b[0m",
      "\u001b[0;31mNameError\u001b[0m                                 Traceback (most recent call last)",
      "\u001b[0;32m<ipython-input-31-1704cf899bd9>\u001b[0m in \u001b[0;36m<module>\u001b[0;34m\u001b[0m\n\u001b[1;32m      9\u001b[0m    \u001b[0mmodel\u001b[0m\u001b[0;34m.\u001b[0m\u001b[0mfit\u001b[0m\u001b[0;34m(\u001b[0m\u001b[0mX_train_oversampled\u001b[0m\u001b[0;34m,\u001b[0m \u001b[0my_train_oversampled\u001b[0m \u001b[0;34m)\u001b[0m\u001b[0;34m\u001b[0m\u001b[0;34m\u001b[0m\u001b[0m\n\u001b[1;32m     10\u001b[0m    \u001b[0my_pred\u001b[0m \u001b[0;34m=\u001b[0m \u001b[0mmodel\u001b[0m\u001b[0;34m.\u001b[0m\u001b[0mpredict\u001b[0m\u001b[0;34m(\u001b[0m\u001b[0mtest_x\u001b[0m\u001b[0;34m)\u001b[0m\u001b[0;34m\u001b[0m\u001b[0;34m\u001b[0m\u001b[0m\n\u001b[0;32m---> 11\u001b[0;31m    \u001b[0mprint\u001b[0m\u001b[0;34m(\u001b[0m\u001b[0;34mf'For fold {fold}:'\u001b[0m\u001b[0;34m)\u001b[0m\u001b[0;34m\u001b[0m\u001b[0;34m\u001b[0m\u001b[0m\n\u001b[0m\u001b[1;32m     12\u001b[0m    \u001b[0mprint\u001b[0m\u001b[0;34m(\u001b[0m\u001b[0;34mf'Accuracy: {model.score(test_x, test_y)}'\u001b[0m\u001b[0;34m)\u001b[0m\u001b[0;34m\u001b[0m\u001b[0;34m\u001b[0m\u001b[0m\n\u001b[1;32m     13\u001b[0m    \u001b[0mprint\u001b[0m\u001b[0;34m(\u001b[0m\u001b[0;34mf'f-score: {f1_score(test_y, y_pred)}'\u001b[0m\u001b[0;34m)\u001b[0m\u001b[0;34m\u001b[0m\u001b[0;34m\u001b[0m\u001b[0m\n",
      "\u001b[0;31mNameError\u001b[0m: name 'fold' is not defined"
     ]
    }
   ],
   "source": [
    "# separate x and y as values and targets for training and testing data\n",
    "cv = StratifiedKFold(n_splits=10)\n",
    "\n",
    "\n",
    "for train_idx, test_idx, in cv.split(train_x, train_y): # what is cv\n",
    "   sm = SMOTE()\n",
    "   X_train_oversampled, y_train_oversampled = sm.fit_sample(train_x, train_y)\n",
    "   model = linear_model.LinearRegression(fit_intercept=False)  # Choose a model here\n",
    "   model.fit(X_train_oversampled, y_train_oversampled ) \n",
    "   y_pred = model.predict(test_x)\n",
    "   print(f'For fold {fold}:')\n",
    "   print(f'Accuracy: {model.score(test_x, test_y)}')\n",
    "   print(f'f-score: {f1_score(test_y, y_pred)}') "
   ]
  },
  {
   "cell_type": "markdown",
   "metadata": {},
   "source": [
    "## Task 2: model building and evaluation (40 points). \n",
    "Create three models: Logistic Regression, Random Forest, Gradient Boost (XGBoost) using their default hyperparameter values. Report the default parameter values and model performance in terms of precision, recall, F-measure, and AUC. Note that you should perform evalution under the cross validation framework. \n",
    "\n",
    "Note that Fraud is your positive class. You don't need to consider all hyperparameters provided by the tool, only focusing on three or four important ones. \n",
    "\n",
    "We will apply SMOTE technique to deal with the highly imbalanced dataset. Ref. https://machinelearningmastery.com/smote-oversampling-for-imbalanced-classification/\n",
    "E.g.,  \n",
    "```\n",
    "sm = SMOTE()\n",
    "X_train_oversampled, y_train_oversampled = sm.fit_sample(X_train, y_train)\n",
    "```\n",
    "\n",
    "How to build random forest and xgboost model? \n",
    "E.g.,\n",
    "```\n",
    "from sklearn.ensemble import RandomForestClassifier\n",
    "random_forest = RandomForestClassifier(n_estimators=100)\n",
    "random_forest.fit(X_train, Y_train)\n",
    "Y_pred = random_forest.predict(X_test)\n",
    "\n",
    "import xgboost as xgb\n",
    "gbm = xgb.XGBClassifier(max_depth=3, n_estimators=300, learning_rate=0.05).fit(X_train, Y_train)\n",
    "Y_pred = gbm.predict(X_test)\n",
    "```\n",
    "\n",
    "\n"
   ]
  },
  {
   "cell_type": "code",
   "execution_count": 8,
   "metadata": {},
   "outputs": [
    {
     "name": "stdout",
     "output_type": "stream",
     "text": "sample adjustment complete\n"
    }
   ],
   "source": [
    "#adjusting the data for oversampling\n",
    "sm = SMOTE()\n",
    "x_train_oversampled, y_train_oversampled = sm.fit_sample(train_x, train_y)\n",
    "print(\"sample adjustment complete\")"
   ]
  },
  {
   "cell_type": "code",
   "execution_count": 15,
   "metadata": {},
   "outputs": [
    {
     "name": "stdout",
     "output_type": "stream",
     "text": "built model\n[[54994  1876]\n [   15    77]]\n"
    },
    {
     "data": {
      "text/plain": "(0.5195769203227807, 0.9019845031765812, 0.5292017172499341, None)"
     },
     "execution_count": 15,
     "metadata": {},
     "output_type": "execute_result"
    }
   ],
   "source": [
    "#creating logistic regression model\n",
    "logreg = LogisticRegression()\n",
    "logreg.fit(x_train_oversampled, y_train_oversampled)\n",
    "print(\"built model\")\n",
    "# confusionMatrix = confusion_matrix(test_y, y_pred)\n",
    "# print(confusionMatrix)"
   ]
  },
  {
   "cell_type": "code",
   "execution_count": 29,
   "metadata": {},
   "outputs": [
    {
     "name": "stdout",
     "output_type": "stream",
     "text": "precision, recall, fscore, support\n(0.5195769203227807, 0.9019845031765812, 0.5292017172499341, None)\nAUC\n0.9019845031765812\n"
    }
   ],
   "source": [
    "#testing model and getting predictions  \n",
    "y_pred = logreg.predict(test_x)\n",
    "#finding precision and recall\n",
    "from sklearn.metrics import precision_recall_fscore_support as score\n",
    "# precision, recall, fscore, support = score(test_y, y_pred)\n",
    "results = score(test_y, y_pred, average='macro')\n",
    "# Returns list of precision, recall, fscore, support\n",
    "print(\"precision, recall, fscore, support\")\n",
    "print(results)\n",
    "#Finding AUC\n",
    "from sklearn.metrics import roc_auc_score\n",
    "AUC = roc_auc_score(test_y, y_pred)\n",
    "print(\"AUC\")\n",
    "print(AUC)"
   ]
  },
  {
   "cell_type": "code",
   "execution_count": 17,
   "metadata": {},
   "outputs": [
    {
     "data": {
      "text/plain": "(1.0, 1.0, 1.0, None)"
     },
     "execution_count": 17,
     "metadata": {},
     "output_type": "execute_result"
    }
   ],
   "source": [
    "#building the random forest regression model\n",
    "#Note that running this block takes a long time because the random forest classifier is heavy\n",
    "random_forest = RandomForestClassifier(n_estimators=100)\n",
    "random_forest.fit(x_train_oversampled, y_train_oversampled)\n"
   ]
  },
  {
   "cell_type": "code",
   "execution_count": 30,
   "metadata": {},
   "outputs": [
    {
     "name": "stdout",
     "output_type": "stream",
     "text": "precision, recall, fscore, support\n(1.0, 1.0, 1.0, None)\nAUC\n1.0\n"
    }
   ],
   "source": [
    "# Testing the random forest model and getting precision & recall\n",
    "y_pred = random_forest.predict(test_x)\n",
    "#finding precision and recall of Random Forest\n",
    "from sklearn.metrics import precision_recall_fscore_support as score\n",
    "# precision, recall, fscore, support = score(test_y, y_pred)\n",
    "results = score(test_y, y_pred, average='macro')\n",
    "# Returns list of precision, recall, fscore, support\n",
    "print(\"precision, recall, fscore, support\")\n",
    "print(results)\n",
    "#Finding AUC\n",
    "from sklearn.metrics import roc_auc_score\n",
    "AUC = roc_auc_score(test_y, y_pred)\n",
    "print(\"AUC\")\n",
    "print(AUC)"
   ]
  },
  {
   "cell_type": "code",
   "execution_count": 18,
   "metadata": {},
   "outputs": [
    {
     "data": {
      "text/plain": "(1.0, 1.0, 1.0, None)"
     },
     "execution_count": 18,
     "metadata": {},
     "output_type": "execute_result"
    }
   ],
   "source": [
    "# Building the XGboost model\n",
    "gbm = xgb.XGBClassifier(max_depth=3, n_estimators=300, learning_rate=0.05).fit(x_train_oversampled, y_train_oversampled)\n"
   ]
  },
  {
   "cell_type": "code",
   "execution_count": 26,
   "metadata": {},
   "outputs": [
    {
     "name": "stdout",
     "output_type": "stream",
     "text": "precision, recall, fscore, support\n(1.0, 1.0, 1.0, None)\nAUC\n1.0\n"
    }
   ],
   "source": [
    "# testing the model and finding precision & recall\n",
    "y_pred = gbm.predict(test_x)\n",
    "#finding precision and recall\n",
    "from sklearn.metrics import precision_recall_fscore_support as score\n",
    "# precision, recall, fscore, support = score(test_y, y_pred)\n",
    "results = score(test_y, y_pred, average='macro')\n",
    "# Returns list of precision, recall, fscore, support\n",
    "print(\"precision, recall, fscore, support\")\n",
    "print(results)\n",
    "#Finding AUC\n",
    "from sklearn.metrics import roc_auc_score\n",
    "AUC = roc_auc_score(test_y, y_pred)\n",
    "print(\"AUC\")\n",
    "print(AUC)"
   ]
  },
  {
   "cell_type": "markdown",
   "metadata": {},
   "source": [
    "Answer: Please fill the following table based on your experiment results:\n",
    "\n",
    "| Classifier | Default Hyperparameter values| Precision | Recall | AUC |\n",
    "\n",
    "| Logistic regression | (n_estimators=100) | 0.52 | 0.92 | 0.90 |\n",
    "\n",
    "| Random Forest | n_estimators = 100, creiterion = gini, max_depth = none,  | 1.0 | 1.0 | 1.0 |\n",
    "\n",
    "| XGboost | (max_depth=3, n_estimators=300, learning_rate=0.05) | 1.0 | 1.0 | 1.0 | \n"
   ]
  },
  {
   "cell_type": "markdown",
   "metadata": {},
   "source": [
    "## Task 3:  hyperparameter tuning (40 points).\n",
    "For each classifier, turn the hyperparameter using random search and grid search. Report the best performance for each classifier and their running time.\n",
    "Ref. https://scikit-learn.org/stable/auto_examples/model_selection/plot_randomized_search.html\n"
   ]
  },
  {
   "cell_type": "code",
   "execution_count": null,
   "metadata": {},
   "outputs": [],
   "source": []
  },
  {
   "cell_type": "markdown",
   "metadata": {},
   "source": [
    "Answer: Please list your best performance model, hyper parameter values for the best model and running time below:\n"
   ]
  },
  {
   "cell_type": "markdown",
   "metadata": {},
   "source": [
    "## Task 4:  take-away message (10 points)\n",
    "Please summary your findings from the above analysis (at least 2 findings):"
   ]
  }
 ],
 "metadata": {
  "kernelspec": {
   "display_name": "Python 3",
   "language": "python",
   "name": "python3"
  },
  "language_info": {
   "codemirror_mode": {
    "name": "ipython",
    "version": 3
   },
   "file_extension": ".py",
   "mimetype": "text/x-python",
   "name": "python",
   "nbconvert_exporter": "python",
   "pygments_lexer": "ipython3",
   "version": "3.7.3-final"
  }
 },
 "nbformat": 4,
 "nbformat_minor": 4
}